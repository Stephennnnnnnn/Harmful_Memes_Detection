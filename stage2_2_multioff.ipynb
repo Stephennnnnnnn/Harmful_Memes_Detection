{
  "nbformat": 4,
  "nbformat_minor": 0,
  "metadata": {
    "colab": {
      "provenance": [],
      "toc_visible": true
    },
    "kernelspec": {
      "name": "python3",
      "display_name": "Python 3"
    },
    "language_info": {
      "name": "python"
    },
    "accelerator": "GPU"
  },
  "cells": [
    {
      "cell_type": "code",
      "execution_count": 1,
      "metadata": {
        "colab": {
          "base_uri": "https://localhost:8080/"
        },
        "id": "aD9OoA5nnjbf",
        "outputId": "0dc57a41-7cb9-4db8-e9bc-38511032ba77"
      },
      "outputs": [
        {
          "output_type": "stream",
          "name": "stdout",
          "text": [
            "Looking in indexes: https://pypi.org/simple, https://us-python.pkg.dev/colab-wheels/public/simple/\n",
            "Collecting ftfy\n",
            "  Downloading ftfy-6.1.1-py3-none-any.whl (53 kB)\n",
            "\u001b[K     |████████████████████████████████| 53 kB 1.6 MB/s \n",
            "\u001b[?25hRequirement already satisfied: wcwidth>=0.2.5 in /usr/local/lib/python3.7/dist-packages (from ftfy) (0.2.5)\n",
            "Installing collected packages: ftfy\n",
            "Successfully installed ftfy-6.1.1\n"
          ]
        }
      ],
      "source": [
        "!pip install -U -q PyDrive\n",
        "from pydrive.auth import GoogleAuth\n",
        "from pydrive.drive import GoogleDrive\n",
        "from google.colab import auth\n",
        "from oauth2client.client import GoogleCredentials\n",
        "!pip install ftfy\n",
        "\n",
        "# Authenticate\n",
        "drive = None\n",
        "def authenticate():\n",
        "    global drive\n",
        "    auth.authenticate_user()\n",
        "    gauth = GoogleAuth()\n",
        "    gauth.credentials = GoogleCredentials.get_application_default()\n",
        "    drive = GoogleDrive(gauth)\n",
        "\n",
        "#Download files\n",
        "def downloadFiles(fileIds):\n",
        "    authenticate()\n",
        "    for fileId in fileIds:    \n",
        "        downloaded = drive.CreateFile({\"id\": fileId[1]})\n",
        "        downloaded.GetContentFile(fileId[0])"
      ]
    },
    {
      "cell_type": "code",
      "source": [
        "#Download file if not existing\n",
        "try:\n",
        "  _ = open(\"bpe_simple_vocab_16e6.txt.gz\", \"r\")\n",
        "except:\n",
        "  downloadFiles([[\"bpe_simple_vocab_16e6.txt.gz\", \"1sazrmZm-bsAyLap-kvFCVn8uXdGppVo-\"]])\n",
        "\n",
        "try:\n",
        "  _ = open(\"clip_model.pt\", \"r\")\n",
        "except:\n",
        "  downloadFiles([[\"clip_model.pt\", \"1UO7E2nu_4-C5RRcTtYKqCRjLPUtzV2NQ\"]])\n",
        "\n",
        "\n",
        "try:\n",
        "  _ = open(\"Split_Dataset.zip\", \"r\")\n",
        "except:\n",
        "  downloadFiles([[\"Split_Dataset.zip\", \"1goTilek47u98r0DhqiEIGWkOKL5ZpVws\"]])\n",
        "  \n",
        "try:\n",
        "  _ = open(\"Labelled_Images.zip\", \"r\")\n",
        "except:\n",
        "  downloadFiles([[\"Labelled_Images.zip\", \"1NoSdyL0KAHuDY40uEUoDpERmeQ0X7m-z\"]])\n",
        "\n",
        "import zipfile\n",
        "f = zipfile.ZipFile(\"Split_Dataset.zip\", \"r\")\n",
        "for file in f.namelist():\n",
        "    f.extract(file, \"./\")\n",
        "f.close()\n",
        "\n",
        "f = zipfile.ZipFile(\"Labelled_Images.zip\", \"r\")\n",
        "for file in f.namelist():\n",
        "    f.extract(file, \"./\")\n",
        "f.close()"
      ],
      "metadata": {
        "id": "8VXH9xYxnt-8"
      },
      "execution_count": 28,
      "outputs": []
    },
    {
      "cell_type": "code",
      "source": [
        "import torch \n",
        "import torchvision\n",
        "import torch.nn as nn\n",
        "import torch.nn.functional as F\n",
        "from torch.utils.data import TensorDataset, DataLoader\n",
        "from torchvision.transforms import Compose, Resize, CenterCrop, ToTensor, Normalize\n",
        "# from torchnlp import encoders\n",
        "from PIL import Image\n",
        "import matplotlib.pyplot as plt\n",
        "import pandas as pd\n",
        "import numpy as np\n",
        "import os\n",
        "from sklearn.metrics import hamming_loss\n",
        "from sklearn.metrics import accuracy_score\n",
        "from sklearn.metrics import confusion_matrix\n",
        "from sklearn.metrics import precision_score\n",
        "from sklearn.metrics import recall_score\n",
        "from sklearn.metrics import f1_score\n",
        "from sklearn.metrics import roc_auc_score\n",
        "from sklearn.metrics import classification_report\n",
        "from sklearn.metrics import  mean_absolute_error\n",
        "from sklearn.preprocessing import OneHotEncoder, MultiLabelBinarizer\n",
        "from pathlib import Path\n",
        "device = torch.device('cuda' if torch.cuda.is_available() else 'cpu')\n",
        "print(device)\n",
        "\n",
        "import gzip\n",
        "import html\n",
        "import os\n",
        "from functools import lru_cache\n",
        "\n",
        "import ftfy\n",
        "import regex as re\n",
        "!pip install kornia\n",
        "from kornia.filters import gaussian_blur2d"
      ],
      "metadata": {
        "id": "iX8Sr6-4n46c",
        "colab": {
          "base_uri": "https://localhost:8080/"
        },
        "outputId": "9e30a743-d514-477f-dccc-d8841f9b9f1c"
      },
      "execution_count": 3,
      "outputs": [
        {
          "output_type": "stream",
          "name": "stdout",
          "text": [
            "cuda\n",
            "Looking in indexes: https://pypi.org/simple, https://us-python.pkg.dev/colab-wheels/public/simple/\n",
            "Collecting kornia\n",
            "  Downloading kornia-0.6.7-py2.py3-none-any.whl (565 kB)\n",
            "\u001b[K     |████████████████████████████████| 565 kB 8.4 MB/s \n",
            "\u001b[?25hRequirement already satisfied: packaging in /usr/local/lib/python3.7/dist-packages (from kornia) (21.3)\n",
            "Requirement already satisfied: torch>=1.8.1 in /usr/local/lib/python3.7/dist-packages (from kornia) (1.12.1+cu113)\n",
            "Requirement already satisfied: typing-extensions in /usr/local/lib/python3.7/dist-packages (from torch>=1.8.1->kornia) (4.1.1)\n",
            "Requirement already satisfied: pyparsing!=3.0.5,>=2.0.2 in /usr/local/lib/python3.7/dist-packages (from packaging->kornia) (3.0.9)\n",
            "Installing collected packages: kornia\n",
            "Successfully installed kornia-0.6.7\n"
          ]
        }
      ]
    },
    {
      "cell_type": "code",
      "source": [
        "image_dir = 'Labelled Images'\n",
        "train_path = 'Split Dataset/Training_meme_dataset.csv'\n",
        "dev_path = \"Split Dataset/Validation_meme_dataset.csv\"\n",
        "test_path = \"Split Dataset/Testing_meme_dataset.csv\"\n",
        "\n",
        "test_sample = pd.read_csv(test_path)"
      ],
      "metadata": {
        "id": "xwEQWBCLrNLk"
      },
      "execution_count": 29,
      "outputs": []
    },
    {
      "cell_type": "code",
      "source": [
        "@lru_cache()\n",
        "def bytes_to_unicode():\n",
        "    \"\"\"\n",
        "    Returns list of utf-8 byte and a corresponding list of unicode strings.\n",
        "    The reversible bpe codes work on unicode strings.\n",
        "    This means you need a large # of unicode characters in your vocab if you want to avoid UNKs.\n",
        "    When you're at something like a 10B token dataset you end up needing around 5K for decent coverage.\n",
        "    This is a signficant percentage of your normal, say, 32K bpe vocab.\n",
        "    To avoid that, we want lookup tables between utf-8 bytes and unicode strings.\n",
        "    And avoids mapping to whitespace/control characters the bpe code barfs on.\n",
        "    \"\"\"\n",
        "    bs = list(range(ord(\"!\"), ord(\"~\")+1))+list(range(ord(\"¡\"), ord(\"¬\")+1))+list(range(ord(\"®\"), ord(\"ÿ\")+1))\n",
        "    cs = bs[:]\n",
        "    n = 0\n",
        "    for b in range(2**8):\n",
        "        if b not in bs:\n",
        "            bs.append(b)\n",
        "            cs.append(2**8+n)\n",
        "            n += 1\n",
        "    cs = [chr(n) for n in cs]\n",
        "    return dict(zip(bs, cs))"
      ],
      "metadata": {
        "id": "9MXXjmG6MyXq"
      },
      "execution_count": 4,
      "outputs": []
    },
    {
      "cell_type": "code",
      "source": [
        "def get_pairs(word):\n",
        "    \"\"\"Return set of symbol pairs in a word.\n",
        "    Word is represented as tuple of symbols (symbols being variable-length strings).\n",
        "    \"\"\"\n",
        "    pairs = set()\n",
        "    prev_char = word[0]\n",
        "    for char in word[1:]:\n",
        "        pairs.add((prev_char, char))\n",
        "        prev_char = char\n",
        "    return pairs\n",
        "\n",
        "\n",
        "def basic_clean(text):\n",
        "    text = ftfy.fix_text(text)\n",
        "    text = html.unescape(html.unescape(text))\n",
        "    return text.strip()\n",
        "\n",
        "\n",
        "def whitespace_clean(text):\n",
        "    text = re.sub(r'\\s+', ' ', text)\n",
        "    text = text.strip()\n",
        "    return text\n",
        "\n",
        "\n",
        "class SimpleTokenizer(object):\n",
        "    def __init__(self, bpe_path: str = \"bpe_simple_vocab_16e6.txt.gz\"):\n",
        "        self.byte_encoder = bytes_to_unicode()\n",
        "        self.byte_decoder = {v: k for k, v in self.byte_encoder.items()}\n",
        "        merges = gzip.open(bpe_path).read().decode(\"utf-8\").split('\\n')\n",
        "        merges = merges[1:49152-256-2+1]\n",
        "        merges = [tuple(merge.split()) for merge in merges]\n",
        "        vocab = list(bytes_to_unicode().values())\n",
        "        vocab = vocab + [v+'</w>' for v in vocab]\n",
        "        for merge in merges:\n",
        "            vocab.append(''.join(merge))\n",
        "        vocab.extend(['<|startoftext|>', '<|endoftext|>'])\n",
        "        self.encoder = dict(zip(vocab, range(len(vocab))))\n",
        "        self.decoder = {v: k for k, v in self.encoder.items()}\n",
        "        self.bpe_ranks = dict(zip(merges, range(len(merges))))\n",
        "        self.cache = {'<|startoftext|>': '<|startoftext|>', '<|endoftext|>': '<|endoftext|>'}\n",
        "        self.pat = re.compile(r\"\"\"<\\|startoftext\\|>|<\\|endoftext\\|>|'s|'t|'re|'ve|'m|'ll|'d|[\\p{L}]+|[\\p{N}]|[^\\s\\p{L}\\p{N}]+\"\"\", re.IGNORECASE)\n",
        "\n",
        "    def bpe(self, token):\n",
        "        if token in self.cache:\n",
        "            return self.cache[token]\n",
        "        word = tuple(token[:-1]) + ( token[-1] + '</w>',)\n",
        "        pairs = get_pairs(word)\n",
        "\n",
        "        if not pairs:\n",
        "            return token+'</w>'\n",
        "\n",
        "        while True:\n",
        "            bigram = min(pairs, key = lambda pair: self.bpe_ranks.get(pair, float('inf')))\n",
        "            if bigram not in self.bpe_ranks:\n",
        "                break\n",
        "            first, second = bigram\n",
        "            new_word = []\n",
        "            i = 0\n",
        "            while i < len(word):\n",
        "                try:\n",
        "                    j = word.index(first, i)\n",
        "                    new_word.extend(word[i:j])\n",
        "                    i = j\n",
        "                except:\n",
        "                    new_word.extend(word[i:])\n",
        "                    break\n",
        "\n",
        "                if word[i] == first and i < len(word)-1 and word[i+1] == second:\n",
        "                    new_word.append(first+second)\n",
        "                    i += 2\n",
        "                else:\n",
        "                    new_word.append(word[i])\n",
        "                    i += 1\n",
        "            new_word = tuple(new_word)\n",
        "            word = new_word\n",
        "            if len(word) == 1:\n",
        "                break\n",
        "            else:\n",
        "                pairs = get_pairs(word)\n",
        "        word = ' '.join(word)\n",
        "        self.cache[token] = word\n",
        "        return word\n",
        "\n",
        "    def encode(self, text):\n",
        "        bpe_tokens = []\n",
        "        text = whitespace_clean(basic_clean(text)).lower()\n",
        "        for token in re.findall(self.pat, text):\n",
        "            token = ''.join(self.byte_encoder[b] for b in token.encode('utf-8'))\n",
        "            bpe_tokens.extend(self.encoder[bpe_token] for bpe_token in self.bpe(token).split(' '))\n",
        "        return bpe_tokens\n",
        "\n",
        "    def decode(self, tokens):\n",
        "        text = ''.join([self.decoder[token] for token in tokens])\n",
        "        text = bytearray([self.byte_decoder[c] for c in text]).decode('utf-8', errors=\"replace\").replace('</w>', ' ')\n",
        "        return text"
      ],
      "metadata": {
        "id": "OlLcdtmsM1l0"
      },
      "execution_count": 5,
      "outputs": []
    },
    {
      "cell_type": "code",
      "source": [
        "# import os, sys\n",
        "# sys.path.append('path_to_the_module/early-stopping-pytorch')\n",
        "\n",
        "# 克服 EarlyStopping 问题 - https://github.com/Bjarten/early-stopping-pytorch - 下载py文件到本地\n",
        "# from pytorchtools import EarlyStopping\n",
        "class EarlyStopping:\n",
        "    \"\"\"Early stops the training if validation loss doesn't improve after a given patience.\"\"\"\n",
        "    def __init__(self, patience=7, verbose=False, delta=0, path='checkpoint.pt', trace_func=print):\n",
        "        \"\"\"\n",
        "        Args:\n",
        "            patience (int): How long to wait after last time validation loss improved.\n",
        "                            Default: 7\n",
        "            verbose (bool): If True, prints a message for each validation loss improvement. \n",
        "                            Default: False\n",
        "            delta (float): Minimum change in the monitored quantity to qualify as an improvement.\n",
        "                            Default: 0\n",
        "            path (str): Path for the checkpoint to be saved to.\n",
        "                            Default: 'checkpoint.pt'\n",
        "            trace_func (function): trace print function.\n",
        "                            Default: print            \n",
        "        \"\"\"\n",
        "        self.patience = patience\n",
        "        self.verbose = verbose\n",
        "        self.counter = 0\n",
        "        self.best_score = None\n",
        "        self.early_stop = False\n",
        "        self.val_loss_min = np.Inf\n",
        "        self.delta = delta\n",
        "        self.path = path\n",
        "        self.trace_func = trace_func\n",
        "    def __call__(self, val_loss, model):\n",
        "\n",
        "        score = -val_loss\n",
        "\n",
        "        if self.best_score is None:\n",
        "            self.best_score = score\n",
        "            self.save_checkpoint(val_loss, model)\n",
        "        elif score < self.best_score + self.delta:\n",
        "            self.counter += 1\n",
        "            self.trace_func(f'EarlyStopping counter: {self.counter} out of {self.patience}')\n",
        "            if self.counter >= self.patience:\n",
        "                self.early_stop = True\n",
        "        else:\n",
        "            self.best_score = score\n",
        "            self.save_checkpoint(val_loss, model)\n",
        "            self.counter = 0\n",
        "\n",
        "    def save_checkpoint(self, val_loss, model):\n",
        "        '''Saves model when validation loss decrease.'''\n",
        "        if self.verbose:\n",
        "            self.trace_func(f'Validation loss decreased ({self.val_loss_min:.6f} --> {val_loss:.6f}).  Saving model ...')\n",
        "        torch.save(model.state_dict(), self.path)\n",
        "        self.val_loss_min = val_loss"
      ],
      "metadata": {
        "id": "tIDcTEhDN9aC"
      },
      "execution_count": 7,
      "outputs": []
    },
    {
      "cell_type": "code",
      "source": [
        "clip_model = torch.jit.load(\"clip_model.pt\").cuda().eval()\n",
        "input_resolution = clip_model.input_resolution.item()\n",
        "context_length = clip_model.context_length.item()\n",
        "vocab_size = clip_model.vocab_size.item()"
      ],
      "metadata": {
        "id": "BlYDBL_8rgAd"
      },
      "execution_count": 8,
      "outputs": []
    },
    {
      "cell_type": "code",
      "source": [
        "preprocess = Compose([\n",
        "    Resize(input_resolution, interpolation=Image.BICUBIC),\n",
        "    CenterCrop(input_resolution),\n",
        "    ToTensor()\n",
        "    ])\n",
        "tokenizer = SimpleTokenizer()"
      ],
      "metadata": {
        "colab": {
          "base_uri": "https://localhost:8080/"
        },
        "id": "gcfLE6V6rhmS",
        "outputId": "b4d0fb71-eda3-49c2-acc1-3df749f3631f"
      },
      "execution_count": 9,
      "outputs": [
        {
          "output_type": "stream",
          "name": "stderr",
          "text": [
            "/usr/local/lib/python3.7/dist-packages/torchvision/transforms/transforms.py:333: UserWarning: Argument 'interpolation' of type int is deprecated since 0.13 and will be removed in 0.15. Please use InterpolationMode enum.\n",
            "  \"Argument 'interpolation' of type int is deprecated since 0.13 and will be removed in 0.15. \"\n"
          ]
        }
      ]
    },
    {
      "cell_type": "code",
      "source": [
        "# Get the image features for a single image input\n",
        "def process_image_clip(in_img):\n",
        "    image_mean = torch.tensor([0.48145466, 0.4578275, 0.40821073]).cuda()\n",
        "    image_std = torch.tensor([0.26862954, 0.26130258, 0.27577711]).cuda()\n",
        "    \n",
        "    image = preprocess(Image.open(in_img).convert(\"RGB\"))\n",
        "    \n",
        "    image_input = torch.tensor(np.stack(image)).cuda()\n",
        "    image_input -= image_mean[:, None, None]\n",
        "    image_input /= image_std[:, None, None]\n",
        "    return image_input\n",
        "\n",
        "# Get the text features for a single text input\n",
        "def process_text_clip(in_text):    \n",
        "    text_token = tokenizer.encode(in_text)\n",
        "    text_input = torch.zeros(clip_model.context_length, dtype=torch.long)\n",
        "    sot_token = tokenizer.encoder['<|startoftext|>']\n",
        "    eot_token = tokenizer.encoder['<|endoftext|>']\n",
        "    tokens = [sot_token] + text_token[:75] + [eot_token]\n",
        "    text_input[:len(tokens)] = torch.tensor(tokens)\n",
        "    text_input = text_input.cuda()\n",
        "    return text_input"
      ],
      "metadata": {
        "id": "pNaaZaUyrj1A"
      },
      "execution_count": 10,
      "outputs": []
    },
    {
      "cell_type": "code",
      "execution_count": 31,
      "metadata": {
        "id": "R5lz3mmHNdXV"
      },
      "outputs": [],
      "source": [
        "class meme_data(torch.utils.data.Dataset):\n",
        "    def __init__(\n",
        "        self,\n",
        "        data_path,\n",
        "        img_dir,\n",
        "        split_flag=None,\n",
        "        balance=False,\n",
        "        dev_limit=None,\n",
        "        random_state=0,\n",
        "    ):\n",
        "\n",
        "        self.samples_frame = pd.read_csv(\n",
        "            data_path\n",
        "        )\n",
        "        self.samples_frame = self.samples_frame.reset_index(\n",
        "            drop=True\n",
        "        )\n",
        "        self.samples_frame.image_name = self.samples_frame.apply(\n",
        "            lambda row: (img_dir + '/' + row.image_name), axis=1\n",
        "        )\n",
        "\n",
        "        \n",
        "    def __len__(self):\n",
        "        return len(self.samples_frame)\n",
        "\n",
        "    def __getitem__(self, idx):\n",
        "\n",
        "        if torch.is_tensor(idx):\n",
        "            idx = idx.tolist()\n",
        "\n",
        "        img_file_name = self.samples_frame.loc[idx, \"image_name\"]\n",
        "        \n",
        "        image_clip_input = process_image_clip(self.samples_frame.loc[idx, \"image_name\"])      \n",
        "#         Pre-extracted features  \n",
        "\n",
        "        text_clip_input = process_text_clip(self.samples_frame.loc[idx, \"sentence\"])\n",
        "#         -------------------------------------------------------------------------------\n",
        "\n",
        "        if self.samples_frame.loc[idx, \"label\"]==\"Non-offensiv\":\n",
        "            lab=0\n",
        "        else:\n",
        "            lab=1\n",
        "        label = torch.tensor(lab).to(device)  \n",
        "\n",
        "        \n",
        "        sample = {\n",
        "            \"image_clip_input\": image_clip_input,\n",
        "            \"text_clip_input\": text_clip_input,\n",
        "            \"label\": label\n",
        "        }\n",
        "\n",
        "        return sample"
      ]
    },
    {
      "cell_type": "code",
      "source": [
        "train_data_hm = meme_data(train_path, image_dir, split_flag='train')\n",
        "dataloader_train_pol = DataLoader(train_data_hm, batch_size=64,shuffle=True, num_workers=0)\n",
        "\n",
        "dev_data_hm = meme_data(dev_path, image_dir, split_flag='val')\n",
        "dataloader_val_pol = DataLoader(dev_data_hm, batch_size=64,shuffle=True, num_workers=0)\n",
        "\n",
        "test_data_hm = meme_data(test_path, image_dir, split_flag='test')\n",
        "dataloader_test_pol = DataLoader(test_data_hm, batch_size=64, shuffle=False, num_workers=0)\n",
        "\n"
      ],
      "metadata": {
        "id": "VcKqmn8JKaDJ"
      },
      "execution_count": 32,
      "outputs": []
    },
    {
      "cell_type": "code",
      "source": [
        "class SinkhornSolver(nn.Module):\n",
        "    \"\"\"\n",
        "    Optimal Transport solver under entropic regularisation.\n",
        "    Based on the code of Gabriel Peyré.\n",
        "    \"\"\"\n",
        "    def __init__(self, epsilon, iterations=100, ground_metric=lambda x: torch.pow(x, 2)):\n",
        "        super(SinkhornSolver, self).__init__()\n",
        "        self.epsilon = epsilon\n",
        "        self.iterations = iterations\n",
        "        self.ground_metric = ground_metric\n",
        "\n",
        "    def forward(self, x, y):\n",
        "        num_x = x.size(-2)\n",
        "        num_y = y.size(-2)\n",
        "        \n",
        "        batch_size = 1 if x.dim() == 2 else x.size(0)\n",
        "\n",
        "        # Marginal densities are empirical measures\n",
        "        a = x.new_ones((batch_size, num_x), requires_grad=False) / num_x\n",
        "        b = y.new_ones((batch_size, num_y), requires_grad=False) / num_y\n",
        "        \n",
        "        a = a.squeeze()\n",
        "        b = b.squeeze()\n",
        "                \n",
        "        # Initialise approximation vectors in log domain\n",
        "        u = torch.zeros_like(a)\n",
        "        v = torch.zeros_like(b)\n",
        "\n",
        "        # Stopping criterion\n",
        "        threshold = 1e-1\n",
        "        \n",
        "        # Cost matrix\n",
        "        C = self._compute_cost(x, y)\n",
        "        \n",
        "        # Sinkhorn iterations\n",
        "        for i in range(self.iterations): \n",
        "            u0, v0 = u, v\n",
        "                        \n",
        "            # u^{l+1} = a / (K v^l)\n",
        "            K = self._log_boltzmann_kernel(u, v, C)\n",
        "            u_ = torch.log(a + 1e-8) - torch.logsumexp(K, dim=1)\n",
        "            u = self.epsilon * u_ + u\n",
        "                        \n",
        "            # v^{l+1} = b / (K^T u^(l+1))\n",
        "            K_t = self._log_boltzmann_kernel(u, v, C).transpose(-2, -1)\n",
        "            v_ = torch.log(b + 1e-8) - torch.logsumexp(K_t, dim=1)\n",
        "            v = self.epsilon * v_ + v\n",
        "            \n",
        "            # Size of the change we have performed on u\n",
        "            diff = torch.sum(torch.abs(u - u0), dim=-1) + torch.sum(torch.abs(v - v0), dim=-1)\n",
        "            mean_diff = torch.mean(diff)\n",
        "                        \n",
        "            if mean_diff.item() < threshold:\n",
        "                break\n",
        "   \n",
        "        # print(\"Finished computing transport plan in {} iterations\".format(i))\n",
        "    \n",
        "        # Transport plan pi = diag(a)*K*diag(b)\n",
        "        K = self._log_boltzmann_kernel(u, v, C)\n",
        "        pi = torch.exp(K)\n",
        "        \n",
        "        # Sinkhorn distance\n",
        "        cost = torch.sum(pi * C, dim=(-2, -1))\n",
        "\n",
        "        return cost, pi\n",
        "\n",
        "    def _compute_cost(self, x, y):\n",
        "        x_ = x.unsqueeze(-2)\n",
        "        y_ = y.unsqueeze(-3)\n",
        "        C = torch.sum(self.ground_metric(x_ - y_), dim=-1)\n",
        "        return C\n",
        "\n",
        "    def _log_boltzmann_kernel(self, u, v, C=None):\n",
        "        C = self._compute_cost(x, y) if C is None else C\n",
        "        kernel = -C + u.unsqueeze(-1) + v.unsqueeze(-2)\n",
        "        kernel /= self.epsilon\n",
        "        return kernel\n",
        "\n",
        "def sinkhorn_iter(x,y):\n",
        "    epsilon = 10**(-(2))\n",
        "    solver = SinkhornSolver(epsilon=epsilon, iterations=10000)\n",
        "    cost, pi = solver.forward(x, y)\n",
        "    return cost,pi"
      ],
      "metadata": {
        "id": "d3jYr15Eg1D7"
      },
      "execution_count": 13,
      "outputs": []
    },
    {
      "cell_type": "markdown",
      "source": [
        "# Define the model"
      ],
      "metadata": {
        "id": "CGZXIsXrMsmh"
      }
    },
    {
      "cell_type": "code",
      "source": [
        "torch.cuda.empty_cache()"
      ],
      "metadata": {
        "id": "5ZL13U_2oGwD"
      },
      "execution_count": null,
      "outputs": []
    },
    {
      "cell_type": "code",
      "source": [
        "aa = nn.Linear(64, 2).to(device)\n",
        "for data in dataloader_train_pol:\n",
        "    a = data[\"image_clip_input\"]\n",
        "    b = data[\"text_clip_input\"]\n",
        "    img_feat_clip = clip_model.encode_image(a).float().to(device)\n",
        "    txt_feat_clip = clip_model.encode_text(b).float().to(device)\n",
        "    in_CI_smo = gaussian_blur2d(img_feat_clip.unsqueeze(0).unsqueeze(0),(3, 3), (1.5, 1.5)) #[1, 1, 64, 512]\n",
        "    in_CT_smo = gaussian_blur2d(txt_feat_clip.unsqueeze(0).unsqueeze(0),(3, 3), (1.5, 1.5)) #[1, 1, 64, 512]\n",
        "    cost,pi = sinkhorn_iter(in_CI_smo.squeeze(0).squeeze(0),in_CT_smo.squeeze(0).squeeze(0))\n",
        "    print(F.relu(aa(pi)))\n",
        "    break"
      ],
      "metadata": {
        "id": "kwymCSemPgvi"
      },
      "execution_count": null,
      "outputs": []
    },
    {
      "cell_type": "code",
      "source": [
        "a = nn.Linear(64, 2).to(device)\n",
        "F.sigmoid(a(pi))"
      ],
      "metadata": {
        "id": "s65qhNmcPdi4"
      },
      "execution_count": null,
      "outputs": []
    },
    {
      "cell_type": "code",
      "source": [
        "# Get the cross attention value features \n",
        "# Vanilla model\n",
        "\n",
        "class MM(nn.Module):\n",
        "    def __init__(self, n_out):\n",
        "        super(MM, self).__init__()  \n",
        "        self.dense_vgg_1024 = nn.Linear(4096, 1024)\n",
        "        self.dense_vgg_512 = nn.Linear(1024, 512)\n",
        "        self.drop20 = nn.Dropout(p=0.2)\n",
        "        self.drop5 = nn.Dropout(p=0.05) \n",
        "        \n",
        "        self.dense_drob_512 = nn.Linear(768, 512)\n",
        "        \n",
        "        self.gen_key_L1 = nn.Linear(512, 256) # 512X256\n",
        "        self.gen_query_L1 = nn.Linear(512, 256) # 512X256\n",
        "        self.gen_key_L2 = nn.Linear(512, 256) # 512X256\n",
        "        self.gen_query_L2 = nn.Linear(512, 256) # 512X256\n",
        "        self.gen_key_L3 = nn.Linear(512, 256) # 512X256\n",
        "        self.gen_query_L3 = nn.Linear(512, 256) # 512X256\n",
        "#         self.gen_value = nn.Linear(512, 256) # 512X256\n",
        "        self.soft = nn.Softmax(dim=1)\n",
        "        self.soft_final = nn.Softmax(dim=1)\n",
        "        self.project_dense_512a = nn.Linear(1024, 512) # 512X256\n",
        "        self.project_dense_512b = nn.Linear(1024, 512) # 512X256\n",
        "        self.project_dense_512c = nn.Linear(1024, 512) # 512X256 \n",
        "        \n",
        "        \n",
        "        self.fc_out = nn.Linear(512, 256) # 512X256\n",
        "        self.sink_out = nn.Linear(64, 2) # 512X256\n",
        "        self.out = nn.Linear(256, n_out) # 512X256\n",
        "        \n",
        "    def selfattNFuse(self, vec1, vec2): \n",
        "            q1 = F.relu(self.gen_query_L1(vec1))\n",
        "            k1 = F.relu(self.gen_key_L1(vec1))\n",
        "            q2 = F.relu(self.gen_query_L1(vec2))\n",
        "            k2 = F.relu(self.gen_key_L1(vec2))\n",
        "            score1 = torch.reshape(torch.bmm(q1.view(-1, 1, 256), k2.view(-1, 256, 1)), (-1, 1))\n",
        "            score2 = torch.reshape(torch.bmm(q2.view(-1, 1, 256), k1.view(-1, 256, 1)), (-1, 1))\n",
        "            wt_score1_score2_mat = torch.cat((score1, score2), 1)\n",
        "            wt_i1_i2 = self.soft(wt_score1_score2_mat.float()) #prob\n",
        "            prob_1 = wt_i1_i2[:,0]\n",
        "            prob_2 = wt_i1_i2[:,1]\n",
        "            wtd_i1 = vec1 * prob_1[:, None]\n",
        "            wtd_i2 = vec2 * prob_2[:, None]\n",
        "            out_rep = F.relu(self.project_dense_512a(torch.cat((wtd_i1,wtd_i2), 1)))\n",
        "            return out_rep\n",
        "  \n",
        "\n",
        "\n",
        "    def forward(self, in_CI, in_CT):\n",
        "        # print(in_CI.shape,in_CT.shape)\n",
        "        in_CI_smo = gaussian_blur2d(in_CI.unsqueeze(0).unsqueeze(0),(3, 3), (1.5, 1.5)) #[1, 1, 64, 512]\n",
        "        in_CT_smo = gaussian_blur2d(in_CT.unsqueeze(0).unsqueeze(0),(3, 3), (1.5, 1.5)) #[1, 1, 64, 512]\n",
        "\n",
        "        cost,pi = sinkhorn_iter(in_CI_smo.squeeze(0).squeeze(0),in_CT_smo.squeeze(0).squeeze(0)) #64x64\n",
        "        score_sink = F.sigmoid(self.sink_out(pi)) #64x2\n",
        "        # print(score_sink)\n",
        "        res_inter = self.selfattNFuse(in_CI, in_CT) #64x512\n",
        "        res_inter_score = F.relu(self.fc_out(res_inter)) #64x256\n",
        "        res_inter_score_final = torch.sigmoid(self.out(res_inter_score)) #64x2\n",
        "        score_sum = res_inter_score_final + score_sink\n",
        "        return score_sum"
      ],
      "metadata": {
        "id": "9wlXGmNlN20i"
      },
      "execution_count": 14,
      "outputs": []
    },
    {
      "cell_type": "markdown",
      "source": [
        "# Training function\n"
      ],
      "metadata": {
        "id": "xJMN8x1BMv0Q"
      }
    },
    {
      "cell_type": "code",
      "source": [
        "# For cross entropy loss\n",
        "def train_model(model, patience, n_epochs, dataloader_train, dataloader_val):\n",
        "    epochs = n_epochs\n",
        "#     clip = 5\n",
        "\n",
        "    train_acc_list=[]\n",
        "    val_acc_list=[]\n",
        "    train_loss_list=[]\n",
        "    val_loss_list=[]\n",
        "    \n",
        "        # initialize the experiment path\n",
        "    Path(exp_path).mkdir(parents=True, exist_ok=True)\n",
        "    # initialize early_stopping object\n",
        "    chk_file = os.path.join(exp_path, 'checkpoint_'+exp_name+'.pt')\n",
        "    early_stopping = EarlyStopping(patience=patience, verbose=True, path=chk_file)\n",
        "\n",
        "\n",
        "    model.train()\n",
        "    for i in range(epochs):\n",
        "#         total_acc_train = 0\n",
        "        total_loss_train = 0\n",
        "        total_train = 0\n",
        "        correct_train = 0\n",
        "\n",
        "        for ii,data in enumerate(dataloader_train):\n",
        "            \n",
        "#             Clip features...\n",
        "            img_inp_clip = data['image_clip_input']\n",
        "            txt_inp_clip = data['text_clip_input']\n",
        "            # bert_in = data['text_drob_feature']\n",
        "            with torch.no_grad():\n",
        "                img_feat_clip = clip_model.encode_image(img_inp_clip).float().to(device)\n",
        "                txt_feat_clip = clip_model.encode_text(txt_inp_clip).float().to(device)\n",
        "                # global_img = global_feature[0].float().to(device)\n",
        "                # global_txt = global_feature[1].float().to(device)\n",
        "\n",
        "            label_train = data['label'].to(device)\n",
        "\n",
        "            model.zero_grad()\n",
        "            try:\n",
        "                output = model(img_feat_clip, txt_feat_clip)\n",
        "                # print(output.squeeze())\n",
        "                loss = criterion(output.squeeze(), label_train)\n",
        "                \n",
        "                loss.backward()\n",
        "    #             nn.utils.clip_grad_norm_(model.parameters(), clip)\n",
        "                optimizer.step()\n",
        "            \n",
        "\n",
        "                with torch.no_grad():\n",
        "                    _, predicted_train = torch.max(output.data, 1)\n",
        "                    total_train += label_train.size(0)\n",
        "                    correct_train += (predicted_train == label_train).sum().item()\n",
        "    #                 out_val = (output.squeeze()>0.5).float()\n",
        "    #                 out_final = ((out_val == 1).nonzero(as_tuple=True)[0])\n",
        "    #                 print()\n",
        "    #                 acc = torch.abs(output.squeeze() - label.float()).view(-1)\n",
        "    #                 acc = (1. - acc.sum() / acc.size()[0])\n",
        "    #                 total_acc_train += acc\n",
        "                    total_loss_train += loss.item()\n",
        "            except:\n",
        "                pass\n",
        "\n",
        "            if ii%5 == 0:\n",
        "                print(f\"epoch:{i}, batch:{ii}\")\n",
        "\n",
        "        # print(label_train,correct_train,total_train)\n",
        "        train_acc = 100 * correct_train / total_train\n",
        "        train_loss = total_loss_train/total_train\n",
        "        model.eval()\n",
        "#         total_acc_val = 0\n",
        "        total_loss_val = 0\n",
        "        total_val = 0\n",
        "        correct_val = 0\n",
        "\n",
        "        with torch.no_grad():\n",
        "            for data in dataloader_val:                \n",
        "#                 Clip features...                \n",
        "                img_inp_clip = data['image_clip_input']\n",
        "                txt_inp_clip = data['text_clip_input']\n",
        "                # bert_in = data['text_drob_feature']\n",
        "                with torch.no_grad():\n",
        "                    img_feat_clip = clip_model.encode_image(img_inp_clip).float().to(device)\n",
        "                    txt_feat_clip = clip_model.encode_text(txt_inp_clip).float().to(device)\n",
        "                    # global_img = global_feature[0].float().to(device)\n",
        "                    # global_txt = global_feature[1].float().to(device)\n",
        "        \n",
        "                label_val = data['label'].to(device)\n",
        "\n",
        "                model.zero_grad()\n",
        "                try:\n",
        "                    output = model(img_feat_clip, txt_feat_clip)\n",
        "                    \n",
        "                    \n",
        "                    val_loss = criterion(output.squeeze(), label_val)\n",
        "                    _, predicted_val = torch.max(output.data, 1)\n",
        "                    total_val += label_val.size(0)\n",
        "                    correct_val += (predicted_val == label_val).sum().item()                \n",
        "                    total_loss_val += val_loss.item()\n",
        "                except:\n",
        "                    pass\n",
        "\n",
        "        if i == 10:\n",
        "            print(\"Saving model...\") \n",
        "            torch.save(model.state_dict(), os.path.join(exp_path, \"10epoch_model.pt\"))\n",
        "        val_acc = 100 * correct_val / total_val\n",
        "        val_loss = total_loss_val/total_val\n",
        "\n",
        "        train_acc_list.append(train_acc)\n",
        "        val_acc_list.append(val_acc)\n",
        "        train_loss_list.append(train_loss)\n",
        "        val_loss_list.append(val_loss)\n",
        "        \n",
        "        early_stopping(val_loss, model)\n",
        "        \n",
        "        if early_stopping.early_stop:\n",
        "            print(\"Early stopping\")\n",
        "            break\n",
        "            \n",
        "\n",
        "        print(f'Epoch {i+1}: train_loss: {train_loss:.4f} train_acc: {train_acc:.4f} | val_loss: {val_loss:.4f} val_acc: {val_acc:.4f}')\n",
        "        model.train()\n",
        "        torch.cuda.empty_cache()\n",
        "    print(\"Saving model...\") \n",
        "    torch.save(model.state_dict(), os.path.join(exp_path, \"final_model.pt\"))\n",
        "    # load the last checkpoint with the best model\n",
        "#     model.load_state_dict(torch.load('checkpoint_1.pt'))\n",
        "    \n",
        "    return  model, train_acc_list, val_acc_list, train_loss_list, val_loss_list, i"
      ],
      "metadata": {
        "id": "oVB4mHJ0OBPF"
      },
      "execution_count": 15,
      "outputs": []
    },
    {
      "cell_type": "code",
      "source": [
        "# For CE loss\n",
        "def test_model(model, dataloader_test,test_frame):\n",
        "    ls_truth = []\n",
        "    model.eval()\n",
        "    total_test = 0\n",
        "    correct_test =0\n",
        "    total_acc_test = 0\n",
        "    total_loss_test = 0\n",
        "    outputs = []\n",
        "    test_labels=[]\n",
        "    with torch.no_grad():\n",
        "        for i,data in enumerate(dataloader_test):\n",
        "            img_inp_clip = data['image_clip_input']\n",
        "            txt_inp_clip = data['text_clip_input']\n",
        "            # bert_in = data['text_drob_feature']\n",
        "            with torch.no_grad():\n",
        "                img_feat_clip = clip_model.encode_image(img_inp_clip).float().to(device)\n",
        "                txt_feat_clip = clip_model.encode_text(txt_inp_clip).float().to(device)\n",
        "                # global_feature = clip_model(img_inp_clip,txt_inp_clip)\n",
        "                # global_img = global_feature[0].float().to(device)\n",
        "                # global_txt = global_feature[1].float().to(device)          \n",
        "\n",
        "            label_test = data['label'].to(device)\n",
        "            \n",
        "#             out = model(img_feat_vgg, txt_feat_trans)        \n",
        "            try:\n",
        "                out = model(img_feat_clip, txt_feat_clip)        \n",
        "\n",
        "                outputs += list(out.cpu().data.numpy())\n",
        "                loss = criterion(out.squeeze(), label_test)\n",
        "                \n",
        "                _, predicted_test = torch.max(out.data, 1)\n",
        "                total_test += label_test.size(0)\n",
        "                correct_test += (predicted_test == label_test).sum().item()\n",
        "    #                 out_val = (output.squeeze()>0.5).float()\n",
        "    #                 out_final = ((out_val == 1).nonzero(as_tuple=True)[0])\n",
        "    #                 print()\n",
        "    #                 acc = torch.abs(output.squeeze() - label.float()).view(-1)\n",
        "    #                 acc = (1. - acc.sum() / acc.size()[0])\n",
        "    #                 total_acc_train += acc\n",
        "                ls_truth.append(label_test)\n",
        "            except:\n",
        "                pass\n",
        "            \n",
        "            \n",
        "#     #         print(label.float())\n",
        "#             acc = torch.abs(out.squeeze() - label.float()).view(-1)\n",
        "#     #         print((acc.sum() / acc.size()[0]))\n",
        "#             acc = (1. - acc.sum() / acc.size()[0])\n",
        "#     #         print(acc)\n",
        "#             total_acc_test += acc\n",
        "#             total_loss_test += loss.item()\n",
        "\n",
        "    \n",
        "    acc_test = 100 * correct_test / total_test\n",
        "    loss_test = total_loss_test/total_test   \n",
        "\n",
        "    return outputs,ls_truth\n"
      ],
      "metadata": {
        "id": "AsplvOxzOIkN"
      },
      "execution_count": 16,
      "outputs": []
    },
    {
      "cell_type": "markdown",
      "source": [
        "# Train"
      ],
      "metadata": {
        "id": "MIcLmqDwN3_d"
      }
    },
    {
      "cell_type": "code",
      "source": [
        "output_size = 2\n",
        "exp_name = \"EMNLP_MCHarm_GLAREAll_POLTrain_POLEval\"\n",
        "# pre_trn_ckp = \"EMNLP_MCHarm_GLAREAll_COVTrain\" # Uncomment for using pre-trained\n",
        "exp_path = \"path_to_saved_files/EMNLP_ModelCkpt/\"+exp_name\n",
        "lr=0.0005\n",
        "# criterion = nn.BCELoss() #Binary case\n",
        "criterion = nn.CrossEntropyLoss()\n",
        "# # ------------Fresh training------------\n",
        "model = MM(output_size)\n",
        "model.to(device)\n",
        "# print(model_harm_p)\n",
        "optimizer = torch.optim.Adam(model.parameters(), lr=lr, weight_decay=1e-5)\n",
        "\n",
        "n_epochs = 3\n",
        "# early stopping patience; how long to wait after last time validation loss improved.\n",
        "patience = 25\n",
        "model_harm_c, train_acc_list_cov, val_acc_list_cov, train_loss_list_cov, val_loss_list_cov, epoc_num = train_model(model, patience,\n",
        "                                                                                            n_epochs,dataloader_train_pol,\n",
        "                                                                                            dataloader_val_pol)"
      ],
      "metadata": {
        "colab": {
          "base_uri": "https://localhost:8080/"
        },
        "id": "ZGuZOSQOKO3U",
        "outputId": "8745f032-fc26-47bf-f922-4b8677637e5d"
      },
      "execution_count": 33,
      "outputs": [
        {
          "output_type": "stream",
          "name": "stderr",
          "text": [
            "/usr/local/lib/python3.7/dist-packages/torch/nn/functional.py:1960: UserWarning: nn.functional.sigmoid is deprecated. Use torch.sigmoid instead.\n",
            "  warnings.warn(\"nn.functional.sigmoid is deprecated. Use torch.sigmoid instead.\")\n"
          ]
        },
        {
          "output_type": "stream",
          "name": "stdout",
          "text": [
            "epoch:0, batch:0\n",
            "epoch:0, batch:5\n",
            "Validation loss decreased (inf --> 0.010575).  Saving model ...\n",
            "Epoch 1: train_loss: 0.0108 train_acc: 55.9896 | val_loss: 0.0106 val_acc: 60.9375\n",
            "epoch:1, batch:0\n",
            "epoch:1, batch:5\n",
            "Validation loss decreased (0.010575 --> 0.010247).  Saving model ...\n",
            "Epoch 2: train_loss: 0.0103 train_acc: 61.1979 | val_loss: 0.0102 val_acc: 64.0625\n",
            "epoch:2, batch:0\n",
            "epoch:2, batch:5\n",
            "Validation loss decreased (0.010247 --> 0.010103).  Saving model ...\n",
            "Epoch 3: train_loss: 0.0093 train_acc: 75.5208 | val_loss: 0.0101 val_acc: 62.5000\n",
            "Saving model...\n"
          ]
        }
      ]
    },
    {
      "cell_type": "code",
      "source": [
        "torch.save(model_harm_c,\"stage2-2_f182.pt\")"
      ],
      "metadata": {
        "id": "qcYvXfDTxXoW"
      },
      "execution_count": null,
      "outputs": []
    },
    {
      "cell_type": "code",
      "source": [
        "n_epochs = 3\n",
        "# early stopping patience; how long to wait after last time validation loss improved.\n",
        "patience = 10\n",
        "model_harm_c, train_acc_list_cov, val_acc_list_cov, train_loss_list_cov, val_loss_list_cov, epoc_num = train_model(model_harm_c, patience,\n",
        "                                                                                            n_epochs,dataloader_train_pol,\n",
        "                                                                                            dataloader_val_pol)"
      ],
      "metadata": {
        "colab": {
          "base_uri": "https://localhost:8080/"
        },
        "id": "b6Pe8C1GVWJl",
        "outputId": "12313e72-482d-47e4-ca5e-47cd47af17d4"
      },
      "execution_count": 24,
      "outputs": [
        {
          "output_type": "stream",
          "name": "stderr",
          "text": [
            "/usr/local/lib/python3.7/dist-packages/torch/nn/functional.py:1960: UserWarning: nn.functional.sigmoid is deprecated. Use torch.sigmoid instead.\n",
            "  warnings.warn(\"nn.functional.sigmoid is deprecated. Use torch.sigmoid instead.\")\n"
          ]
        },
        {
          "output_type": "stream",
          "name": "stdout",
          "text": [
            "epoch:0, batch:0\n",
            "epoch:0, batch:5\n",
            "epoch:0, batch:10\n",
            "epoch:0, batch:15\n",
            "epoch:0, batch:20\n",
            "epoch:0, batch:25\n",
            "epoch:0, batch:30\n",
            "epoch:0, batch:35\n",
            "epoch:0, batch:40\n",
            "epoch:0, batch:45\n",
            "Validation loss decreased (inf --> 0.010122).  Saving model ...\n",
            "Epoch 1: train_loss: 0.0061 train_acc: 92.6197 | val_loss: 0.0101 val_acc: 65.6250\n",
            "epoch:1, batch:0\n",
            "epoch:1, batch:5\n",
            "epoch:1, batch:10\n",
            "epoch:1, batch:15\n",
            "epoch:1, batch:20\n",
            "epoch:1, batch:25\n",
            "epoch:1, batch:30\n",
            "epoch:1, batch:35\n",
            "epoch:1, batch:40\n",
            "epoch:1, batch:45\n",
            "Validation loss decreased (0.010122 --> 0.009963).  Saving model ...\n",
            "Epoch 2: train_loss: 0.0059 train_acc: 93.2181 | val_loss: 0.0100 val_acc: 67.1875\n",
            "epoch:2, batch:0\n",
            "epoch:2, batch:5\n",
            "epoch:2, batch:10\n",
            "epoch:2, batch:15\n",
            "epoch:2, batch:20\n",
            "epoch:2, batch:25\n",
            "epoch:2, batch:30\n",
            "epoch:2, batch:35\n",
            "epoch:2, batch:40\n",
            "epoch:2, batch:45\n",
            "Validation loss decreased (0.009963 --> 0.008884).  Saving model ...\n",
            "Epoch 3: train_loss: 0.0059 train_acc: 93.8830 | val_loss: 0.0089 val_acc: 75.0000\n",
            "Saving model...\n"
          ]
        }
      ]
    },
    {
      "cell_type": "code",
      "source": [
        "torch.save(model_harm_c,\"stage2-2best.pt\")"
      ],
      "metadata": {
        "id": "V47C8WRYJy8j"
      },
      "execution_count": null,
      "outputs": []
    },
    {
      "cell_type": "code",
      "source": [
        "def model_evaluation(model, dataloader_test, test_samples_frame, model_name):\n",
        "    outputs,ls_truth = test_model(model, dataloader_test,test_samples_frame)\n",
        "    # Multiclass setting - Harmful\n",
        "    y_pred=[]\n",
        "    for i in outputs:\n",
        "    #     print(np.argmax(i))\n",
        "        y_pred.append(np.argmax(i))\n",
        "    # # np.argmax(outputs[:])\n",
        "    # outputs\n",
        "\n",
        "    # # Multiclass setting\n",
        "    aa = []\n",
        "    for batch in ls_truth:\n",
        "        aa+=batch\n",
        "\n",
        "    return y_pred, aa"
      ],
      "metadata": {
        "id": "hqezPYlfV-hD"
      },
      "execution_count": 18,
      "outputs": []
    },
    {
      "cell_type": "code",
      "source": [
        "test_samples_frame_muliti = pd.read_csv(test_path)"
      ],
      "metadata": {
        "id": "7EZuZWx5KV0j"
      },
      "execution_count": 38,
      "outputs": []
    },
    {
      "cell_type": "code",
      "source": [
        "y_pred,aa = model_evaluation(model_harm_c, dataloader_test_pol, test_samples_frame_muliti,\"Stage 2-2\")"
      ],
      "metadata": {
        "id": "M3RFGrk5JaCz"
      },
      "execution_count": 40,
      "outputs": []
    },
    {
      "cell_type": "code",
      "source": [
        "ls = []\n",
        "for i in aa:\n",
        "    ls.append(i.item())\n",
        "    "
      ],
      "metadata": {
        "id": "0UF-xEzUQs-p"
      },
      "execution_count": 41,
      "outputs": []
    },
    {
      "cell_type": "code",
      "source": [
        "y_pred"
      ],
      "metadata": {
        "id": "311HrOCJRhgQ"
      },
      "execution_count": null,
      "outputs": []
    },
    {
      "cell_type": "code",
      "source": [
        "rec = np.round(recall_score(ls, y_pred, average=\"macro\"),4)\n",
        "prec = np.round(precision_score(ls, y_pred, average=\"macro\"),4)\n",
        "f1 = np.round(f1_score(ls, y_pred, average=\"macro\"),4)\n",
        "# hl = np.round(hamming_loss(test_labels, y_pred),4)\n",
        "acc = np.round(accuracy_score(ls, y_pred),4)\n",
        "mae = np.round(mean_absolute_error(ls, y_pred),4)\n",
        "print(\"recall_score\\t: \",rec)\n",
        "print(\"precision_score\\t: \",prec)\n",
        "print(\"f1_score\\t: \",f1)\n",
        "# print(\"hamming_loss\\t: \",hl)\n",
        "# print(\"accuracy_score\\t: \",f1)\n",
        "print(classification_report(ls, y_pred))\n"
      ],
      "metadata": {
        "colab": {
          "base_uri": "https://localhost:8080/"
        },
        "id": "8rVEaTlTQfR-",
        "outputId": "aa36ade3-c847-4088-b6bf-db1a1d597472"
      },
      "execution_count": 42,
      "outputs": [
        {
          "output_type": "stream",
          "name": "stdout",
          "text": [
            "recall_score\t:  0.5695\n",
            "precision_score\t:  0.5756\n",
            "f1_score\t:  0.5694\n",
            "              precision    recall  f1-score   support\n",
            "\n",
            "           0       0.65      0.73      0.69        77\n",
            "           1       0.50      0.41      0.45        51\n",
            "\n",
            "    accuracy                           0.60       128\n",
            "   macro avg       0.58      0.57      0.57       128\n",
            "weighted avg       0.59      0.60      0.59       128\n",
            "\n"
          ]
        }
      ]
    },
    {
      "cell_type": "code",
      "source": [
        "output_size = 2\n",
        "exp_name = \"EMNLP_MCHarm_GLAREAll_POLTrain_POLEval\"\n",
        "# pre_trn_ckp = \"EMNLP_MCHarm_GLAREAll_COVTrain\" # Uncomment for using pre-trained\n",
        "exp_path = \"path_to_saved_files/EMNLP_ModelCkpt/\"+exp_name\n",
        "lr=0.0005\n",
        "# criterion = nn.BCELoss() #Binary case\n",
        "criterion = nn.CrossEntropyLoss()\n",
        "# # ------------Fresh training------------\n",
        "model_2_2_test = MM(output_size)\n",
        "model_2_2_test.to(device)\n",
        "# print(model_harm_p)\n",
        "optimizer = torch.optim.Adam(model_2_2_test.parameters(), lr=lr, weight_decay=1e-5)\n",
        "\n",
        "n_epochs = 5\n",
        "# early stopping patience; how long to wait after last time validation loss improved.\n",
        "patience = 25\n",
        "model_2_2_test, train_acc_list_cov, val_acc_list_cov, train_loss_list_cov, val_loss_list_cov, epoc_num = train_model(model_2_2_test, patience,\n",
        "                                                                                            n_epochs,dataloader_train_pol,\n",
        "                                                                                            dataloader_val_pol)"
      ],
      "metadata": {
        "colab": {
          "base_uri": "https://localhost:8080/"
        },
        "id": "Ff7HFNRkyraC",
        "outputId": "6363b40b-8268-4da4-c037-22fc60df85c7"
      },
      "execution_count": 53,
      "outputs": [
        {
          "output_type": "stream",
          "name": "stderr",
          "text": [
            "/usr/local/lib/python3.7/dist-packages/torch/nn/functional.py:1960: UserWarning: nn.functional.sigmoid is deprecated. Use torch.sigmoid instead.\n",
            "  warnings.warn(\"nn.functional.sigmoid is deprecated. Use torch.sigmoid instead.\")\n"
          ]
        },
        {
          "output_type": "stream",
          "name": "stdout",
          "text": [
            "epoch:0, batch:0\n",
            "epoch:0, batch:5\n",
            "Validation loss decreased (inf --> 0.010531).  Saving model ...\n",
            "Epoch 1: train_loss: 0.0107 train_acc: 58.0729 | val_loss: 0.0105 val_acc: 63.2812\n",
            "epoch:1, batch:0\n",
            "epoch:1, batch:5\n",
            "Validation loss decreased (0.010531 --> 0.010369).  Saving model ...\n",
            "Epoch 2: train_loss: 0.0107 train_acc: 54.6875 | val_loss: 0.0104 val_acc: 63.2812\n",
            "epoch:2, batch:0\n",
            "epoch:2, batch:5\n",
            "Validation loss decreased (0.010369 --> 0.010284).  Saving model ...\n",
            "Epoch 3: train_loss: 0.0103 train_acc: 57.8125 | val_loss: 0.0103 val_acc: 63.2812\n",
            "epoch:3, batch:0\n",
            "epoch:3, batch:5\n",
            "EarlyStopping counter: 1 out of 25\n",
            "Epoch 4: train_loss: 0.0096 train_acc: 65.8854 | val_loss: 0.0103 val_acc: 58.5938\n",
            "epoch:4, batch:0\n",
            "epoch:4, batch:5\n",
            "Validation loss decreased (0.010284 --> 0.010067).  Saving model ...\n",
            "Epoch 5: train_loss: 0.0087 train_acc: 77.0833 | val_loss: 0.0101 val_acc: 65.6250\n",
            "Saving model...\n"
          ]
        }
      ]
    },
    {
      "cell_type": "code",
      "source": [
        "import matplotlib.pyplot as plt\n",
        "get_ipython().run_line_magic('matplotlib', 'inline')\n",
        "epochs = range(n_epochs)\n",
        "# train_acc_list\n",
        "# val_acc_list\n",
        "# train_loss_list\n",
        "# val_loss_list\n",
        "# plt.plot(epochs, train_acc_list)\n",
        "# plt.plot(epochs, val_acc_list)\n",
        "def plot_train_info(train_acc_list, val_acc_list,train_loss_list, val_loss_list):\n",
        "    fig1, ax1 = plt.subplots()\n",
        "    ax1.plot(epochs, train_acc_list, label=\"train acc\")\n",
        "    ax1.plot(epochs, val_acc_list, label=\"val acc\")\n",
        "    ax1.set_title(\"accuracy plot\")\n",
        "    ax1.set_xlabel(\"epochs\")\n",
        "    ax1.legend(loc=\"upper left\")\n",
        "    fig2, ax2 = plt.subplots()\n",
        "    ax2.plot(epochs, train_loss_list, label=\"train loss\")\n",
        "    ax2.plot(epochs, val_loss_list, label=\"val loss\")\n",
        "    ax2.set_title(\"loss plot\")\n",
        "    ax2.set_xlabel(\"epochs\")\n",
        "    ax2.legend(loc=\"upper left\")"
      ],
      "metadata": {
        "id": "9cHQEOmLz8jY"
      },
      "execution_count": 54,
      "outputs": []
    },
    {
      "cell_type": "code",
      "source": [
        "plot_train_info(train_acc_list_cov, val_acc_list_cov,train_loss_list_cov, val_loss_list_cov)"
      ],
      "metadata": {
        "colab": {
          "base_uri": "https://localhost:8080/",
          "height": 573
        },
        "id": "Vo7X6xkuz9KM",
        "outputId": "bd8cf781-3c6d-4447-90bf-e24e8eb5ba08"
      },
      "execution_count": 55,
      "outputs": [
        {
          "output_type": "display_data",
          "data": {
            "text/plain": [
              "<Figure size 432x288 with 1 Axes>"
            ],
            "image/png": "[encoded data removed]"
          },
          "metadata": {
            "needs_background": "light"
          }
        },
        {
          "output_type": "display_data",
          "data": {
            "text/plain": [
              "<Figure size 432x288 with 1 Axes>"
            ],
            "image/png": "[encoded data removed]"
          },
          "metadata": {
            "needs_background": "light"
          }
        }
      ]
    },
    {
      "cell_type": "code",
      "source": [
        "y_pred,aa = model_evaluation(model_2_2_test, dataloader_test_pol, test_samples_frame_muliti,\"Stage 2-2_multioff\")\n",
        "ls = []\n",
        "for i in aa:\n",
        "    ls.append(i.item())\n",
        "rec = np.round(recall_score(ls, y_pred, average=\"macro\"),4)\n",
        "prec = np.round(precision_score(ls, y_pred, average=\"macro\"),4)\n",
        "f1 = np.round(f1_score(ls, y_pred, average=\"macro\"),4)\n",
        "# hl = np.round(hamming_loss(test_labels, y_pred),4)\n",
        "acc = np.round(accuracy_score(ls, y_pred),4)\n",
        "mae = np.round(mean_absolute_error(ls, y_pred),4)\n",
        "print(\"recall_score\\t: \",rec)\n",
        "print(\"precision_score\\t: \",prec)\n",
        "print(\"f1_score\\t: \",f1)\n",
        "# print(\"hamming_loss\\t: \",hl)\n",
        "# print(\"accuracy_score\\t: \",f1)\n",
        "print(classification_report(ls, y_pred))"
      ],
      "metadata": {
        "colab": {
          "base_uri": "https://localhost:8080/"
        },
        "id": "EBoejnY50A4O",
        "outputId": "17c08eba-e98f-4242-e580-c45087663ae9"
      },
      "execution_count": 56,
      "outputs": [
        {
          "output_type": "stream",
          "name": "stdout",
          "text": [
            "recall_score\t:  0.5893\n",
            "precision_score\t:  0.5905\n",
            "f1_score\t:  0.5897\n",
            "              precision    recall  f1-score   support\n",
            "\n",
            "           0       0.67      0.69      0.68        77\n",
            "           1       0.51      0.49      0.50        51\n",
            "\n",
            "    accuracy                           0.61       128\n",
            "   macro avg       0.59      0.59      0.59       128\n",
            "weighted avg       0.61      0.61      0.61       128\n",
            "\n"
          ]
        }
      ]
    },
    {
      "cell_type": "code",
      "source": [
        "model_best = torch.load(\"/content/drive/MyDrive/CS19-1/Week8/stage2-2best.pt\")\n",
        "model.eval()"
      ],
      "metadata": {
        "colab": {
          "base_uri": "https://localhost:8080/"
        },
        "id": "n6QIs3Jdlaw1",
        "outputId": "9faba3a2-3b79-4a7d-f767-001521d74afb"
      },
      "execution_count": null,
      "outputs": [
        {
          "output_type": "execute_result",
          "data": {
            "text/plain": [
              "MM(\n",
              "  (dense_vgg_1024): Linear(in_features=4096, out_features=1024, bias=True)\n",
              "  (dense_vgg_512): Linear(in_features=1024, out_features=512, bias=True)\n",
              "  (drop20): Dropout(p=0.2, inplace=False)\n",
              "  (drop5): Dropout(p=0.05, inplace=False)\n",
              "  (dense_drob_512): Linear(in_features=768, out_features=512, bias=True)\n",
              "  (gen_key_L1): Linear(in_features=512, out_features=256, bias=True)\n",
              "  (gen_query_L1): Linear(in_features=512, out_features=256, bias=True)\n",
              "  (gen_key_L2): Linear(in_features=512, out_features=256, bias=True)\n",
              "  (gen_query_L2): Linear(in_features=512, out_features=256, bias=True)\n",
              "  (gen_key_L3): Linear(in_features=512, out_features=256, bias=True)\n",
              "  (gen_query_L3): Linear(in_features=512, out_features=256, bias=True)\n",
              "  (soft): Softmax(dim=1)\n",
              "  (soft_final): Softmax(dim=1)\n",
              "  (project_dense_512a): Linear(in_features=1024, out_features=512, bias=True)\n",
              "  (project_dense_512b): Linear(in_features=1024, out_features=512, bias=True)\n",
              "  (project_dense_512c): Linear(in_features=1024, out_features=512, bias=True)\n",
              "  (fc_out): Linear(in_features=512, out_features=256, bias=True)\n",
              "  (sink_out): Linear(in_features=64, out_features=2, bias=True)\n",
              "  (out): Linear(in_features=256, out_features=2, bias=True)\n",
              ")"
            ]
          },
          "metadata": {},
          "execution_count": 61
        }
      ]
    },
    {
      "cell_type": "code",
      "source": [
        "y_pred,aa = model_evaluation(model_best, dataloader_test_cov, test_samples_frame_cov,\"Stage 2-2\")\n",
        "ls = []\n",
        "for i in aa:\n",
        "    ls.append(i.item())\n",
        "rec = np.round(recall_score(ls, y_pred, average=\"macro\"),4)\n",
        "prec = np.round(precision_score(ls, y_pred, average=\"macro\"),4)\n",
        "f1 = np.round(f1_score(ls, y_pred, average=\"macro\"),4)\n",
        "# hl = np.round(hamming_loss(test_labels, y_pred),4)\n",
        "acc = np.round(accuracy_score(ls, y_pred),4)\n",
        "mae = np.round(mean_absolute_error(ls, y_pred),4)\n",
        "print(\"acc_score\\t: \",acc)\n",
        "print(\"recall_score\\t: \",rec)\n",
        "print(\"precision_score\\t: \",prec)\n",
        "print(\"f1_score\\t: \",f1)\n",
        "# print(\"hamming_loss\\t: \",hl)\n",
        "# print(\"accuracy_score\\t: \",f1)\n",
        "print(classification_report(ls, y_pred))"
      ],
      "metadata": {
        "colab": {
          "base_uri": "https://localhost:8080/"
        },
        "id": "A0QG8viBlfds",
        "outputId": "ebdcbc24-da32-4163-a5b6-1bde8f64804d"
      },
      "execution_count": null,
      "outputs": [
        {
          "output_type": "stream",
          "name": "stderr",
          "text": [
            "/usr/local/lib/python3.7/dist-packages/torch/nn/functional.py:1960: UserWarning: nn.functional.sigmoid is deprecated. Use torch.sigmoid instead.\n",
            "  warnings.warn(\"nn.functional.sigmoid is deprecated. Use torch.sigmoid instead.\")\n"
          ]
        },
        {
          "output_type": "stream",
          "name": "stdout",
          "text": [
            "acc_score\t:  0.825\n",
            "recall_score\t:  0.8408\n",
            "precision_score\t:  0.8236\n",
            "f1_score\t:  0.8225\n",
            "              precision    recall  f1-score   support\n",
            "\n",
            "           0       0.93      0.77      0.84       196\n",
            "           1       0.72      0.91      0.80       124\n",
            "\n",
            "    accuracy                           0.82       320\n",
            "   macro avg       0.82      0.84      0.82       320\n",
            "weighted avg       0.85      0.82      0.83       320\n",
            "\n"
          ]
        }
      ]
    }
  ]
}